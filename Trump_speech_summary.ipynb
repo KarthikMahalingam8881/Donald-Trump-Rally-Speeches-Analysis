{
 "cells": [
  {
   "cell_type": "code",
   "execution_count": 1,
   "id": "ca2b3a65",
   "metadata": {},
   "outputs": [],
   "source": [
    "import numpy as np\n",
    "import pandas as pd\n",
    "import nltk\n",
    "from wordcloud import WordCloud, STOPWORDS, ImageColorGenerator\n",
    "import matplotlib.pyplot as plt\n",
    "import seaborn as sns\n",
    "import nltk\n",
    "from nltk.sentiment.vader import SentimentIntensityAnalyzer\n",
    "from nltk import sent_tokenize\n",
    "\n",
    "import os\n",
    "import re"
   ]
  },
  {
   "cell_type": "code",
   "execution_count": 2,
   "id": "289346b7",
   "metadata": {},
   "outputs": [],
   "source": [
    "filenames, file_contents, year, month, location = [],[],[],[],[]\n",
    "\n",
    "for filename in os.listdir(\"D:\\Data's\\Donald Trump\"):\n",
    "    filenames.append(filename)\n",
    "\n",
    "    with open(f\"D:\\\\Data's\\\\Donald Trump\\\\{filename}\", encoding='utf-8', errors='ignore') as f:\n",
    "        file_contents.append(f.read())\n",
    "    \n",
    "    year.append(filename[-8:-4])\n",
    "    x = re.search(\"([A-z]+)([A-z]{3})([0-9]+)\\_\", filename)\n",
    "    month.append(x.group(2))\n",
    "    location.append(''.join(map(lambda x: x if x.islower() else \" \"+x, x.group(1)))) "
   ]
  },
  {
   "cell_type": "code",
   "execution_count": 3,
   "id": "c98c9f17",
   "metadata": {},
   "outputs": [],
   "source": [
    "df = pd.DataFrame({\n",
    "    'Location': location,\n",
    "    'Month': month,\n",
    "    'Year':year,\n",
    "    'filename':filenames,\n",
    "    'content': file_contents\n",
    "})"
   ]
  },
  {
   "cell_type": "code",
   "execution_count": 4,
   "id": "ad3c821a",
   "metadata": {},
   "outputs": [
    {
     "data": {
      "text/plain": [
       "(35, 5)"
      ]
     },
     "execution_count": 4,
     "metadata": {},
     "output_type": "execute_result"
    }
   ],
   "source": [
    "df.shape"
   ]
  },
  {
   "cell_type": "code",
   "execution_count": 5,
   "id": "67071e56",
   "metadata": {},
   "outputs": [
    {
     "data": {
      "text/html": [
       "<div>\n",
       "<style scoped>\n",
       "    .dataframe tbody tr th:only-of-type {\n",
       "        vertical-align: middle;\n",
       "    }\n",
       "\n",
       "    .dataframe tbody tr th {\n",
       "        vertical-align: top;\n",
       "    }\n",
       "\n",
       "    .dataframe thead th {\n",
       "        text-align: right;\n",
       "    }\n",
       "</style>\n",
       "<table border=\"1\" class=\"dataframe\">\n",
       "  <thead>\n",
       "    <tr style=\"text-align: right;\">\n",
       "      <th></th>\n",
       "      <th>Location</th>\n",
       "      <th>Month</th>\n",
       "      <th>Year</th>\n",
       "      <th>filename</th>\n",
       "      <th>content</th>\n",
       "    </tr>\n",
       "  </thead>\n",
       "  <tbody>\n",
       "    <tr>\n",
       "      <th>0</th>\n",
       "      <td>Battle Creek</td>\n",
       "      <td>Dec</td>\n",
       "      <td>2019</td>\n",
       "      <td>BattleCreekDec19_2019.txt</td>\n",
       "      <td>Thank you. Thank you. Thank you to Vice Presid...</td>\n",
       "    </tr>\n",
       "    <tr>\n",
       "      <th>1</th>\n",
       "      <td>Bemidji</td>\n",
       "      <td>Sep</td>\n",
       "      <td>2020</td>\n",
       "      <td>BemidjiSep18_2020.txt</td>\n",
       "      <td>There's a lot of people. That's great. Thank y...</td>\n",
       "    </tr>\n",
       "  </tbody>\n",
       "</table>\n",
       "</div>"
      ],
      "text/plain": [
       "        Location Month  Year                   filename  \\\n",
       "0   Battle Creek   Dec  2019  BattleCreekDec19_2019.txt   \n",
       "1        Bemidji   Sep  2020      BemidjiSep18_2020.txt   \n",
       "\n",
       "                                             content  \n",
       "0  Thank you. Thank you. Thank you to Vice Presid...  \n",
       "1  There's a lot of people. That's great. Thank y...  "
      ]
     },
     "execution_count": 5,
     "metadata": {},
     "output_type": "execute_result"
    }
   ],
   "source": [
    "df.head(2)"
   ]
  },
  {
   "cell_type": "code",
   "execution_count": 6,
   "id": "c5bd92d0",
   "metadata": {},
   "outputs": [],
   "source": [
    "import torch\n",
    "from torch.utils.data import Dataset, DataLoader\n",
    "import spacy\n",
    "import string\n",
    "from spacy.lang.en.stop_words import STOP_WORDS\n",
    "from string import punctuation\n",
    "stopwords = list (STOP_WORDS)\n",
    "punctuation += '\\n'\n",
    "from heapq import nlargest\n",
    "from concurrent.futures import ProcessPoolExecutor, ThreadPoolExecutor\n",
    "\n",
    "# Load spaCy model\n",
    "nlp = spacy.load(\"en_core_web_sm\")\n",
    "\n",
    "class TextDataset(Dataset):\n",
    "    def __init__(self, texts):\n",
    "        self.texts = texts\n",
    "\n",
    "    def __len__(self):\n",
    "        return len(self.texts)\n",
    "\n",
    "    def __getitem__(self, idx):\n",
    "        return self.texts[idx]\n",
    "\n",
    "def WordFrequencyCalculator(Text):\n",
    "    mWordFrequencies ={}\n",
    "    words = Text.split() # split the text into words\n",
    "    for word in words:\n",
    "        wordInLowerCase = word.lower() \n",
    "            \n",
    "        if (wordInLowerCase not in stopwords) and (wordInLowerCase not in punctuation):\n",
    "            if wordInLowerCase not in mWordFrequencies.keys():\n",
    "                mWordFrequencies[wordInLowerCase] = 1\n",
    "            else:\n",
    "                mWordFrequencies[wordInLowerCase] += 1 # finding the freq of each word in the text\n",
    "    \n",
    "    return mWordFrequencies\n",
    "\n",
    "def CalSentScore(content):\n",
    "    doc = nlp(content)\n",
    "    sentences = [sent for sent in doc.sents]\n",
    "    mNumSentences = len(sentences)\n",
    "    \n",
    "    mWordFrequencies = WordFrequencyCalculator(content)\n",
    "    mSentScore = {}\n",
    "    \n",
    "    for sent in sentences:\n",
    "        for word in sent:\n",
    "            wordInLowerCase = word.text.lower()\n",
    "            \n",
    "            if wordInLowerCase in mWordFrequencies.keys():\n",
    "                if sent not in mSentScore.keys():\n",
    "                    mSentScore[sent] = mWordFrequencies[wordInLowerCase]\n",
    "                else:\n",
    "                    mSentScore[sent] += mWordFrequencies[wordInLowerCase]\n",
    "    \n",
    "    return mSentScore, mNumSentences\n",
    "\n",
    "def SummarizeMyText(content, fractionToReduce=0.01):\n",
    "    mSentScore, mNumSentences = CalSentScore(content)\n",
    "        \n",
    "    reducedSentNum = int(mNumSentences * fractionToReduce)\n",
    "    \n",
    "        \n",
    "    summaryList = nlargest(reducedSentNum, mSentScore, key=mSentScore.get)\n",
    "    summary = ' '.join([sent.text for sent in summaryList])\n",
    "    #for sent in summaryList:\n",
    "        #print(sent, end='')\n",
    "    return summary\n",
    "def process_batch(batch):\n",
    "    summaries = []\n",
    "    for text in batch:\n",
    "        summary = SummarizeMyText(text)\n",
    "        summaries.append(summary)\n",
    "    return summaries\n",
    "\n",
    "\n",
    "# Create dataset and dataloader\n",
    "dataset = df['content']\n",
    "dataloader = DataLoader(dataset, batch_size=1, shuffle=False)\n",
    "\n",
    "# Process texts using the dataloader\n",
    "summaries = []    #concurrent.futures module to parallelize the batch processing of texts. Th\n",
    "with ThreadPoolExecutor() as executor: #This allows multiple batches to be processed simultaneously\n",
    "    for batch in dataloader: #, leveraging multiple CPU cores.\n",
    "        result = executor.submit(process_batch, batch)\n",
    "        summaries.extend(result.result())\n"
   ]
  },
  {
   "cell_type": "code",
   "execution_count": 7,
   "id": "f003739c",
   "metadata": {},
   "outputs": [],
   "source": [
    "df['summaries'] = summaries"
   ]
  },
  {
   "cell_type": "code",
   "execution_count": 8,
   "id": "da6d9309",
   "metadata": {},
   "outputs": [
    {
     "data": {
      "text/html": [
       "<div>\n",
       "<style scoped>\n",
       "    .dataframe tbody tr th:only-of-type {\n",
       "        vertical-align: middle;\n",
       "    }\n",
       "\n",
       "    .dataframe tbody tr th {\n",
       "        vertical-align: top;\n",
       "    }\n",
       "\n",
       "    .dataframe thead th {\n",
       "        text-align: right;\n",
       "    }\n",
       "</style>\n",
       "<table border=\"1\" class=\"dataframe\">\n",
       "  <thead>\n",
       "    <tr style=\"text-align: right;\">\n",
       "      <th></th>\n",
       "      <th>Location</th>\n",
       "      <th>Month</th>\n",
       "      <th>Year</th>\n",
       "      <th>filename</th>\n",
       "      <th>content</th>\n",
       "      <th>summaries</th>\n",
       "    </tr>\n",
       "  </thead>\n",
       "  <tbody>\n",
       "    <tr>\n",
       "      <th>0</th>\n",
       "      <td>Battle Creek</td>\n",
       "      <td>Dec</td>\n",
       "      <td>2019</td>\n",
       "      <td>BattleCreekDec19_2019.txt</td>\n",
       "      <td>Thank you. Thank you. Thank you to Vice Presid...</td>\n",
       "      <td>We need more people coming into the country, a...</td>\n",
       "    </tr>\n",
       "    <tr>\n",
       "      <th>1</th>\n",
       "      <td>Bemidji</td>\n",
       "      <td>Sep</td>\n",
       "      <td>2020</td>\n",
       "      <td>BemidjiSep18_2020.txt</td>\n",
       "      <td>There's a lot of people. That's great. Thank y...</td>\n",
       "      <td>With your help, your devotion and your drive, ...</td>\n",
       "    </tr>\n",
       "    <tr>\n",
       "      <th>2</th>\n",
       "      <td>Charleston</td>\n",
       "      <td>Feb</td>\n",
       "      <td>2020</td>\n",
       "      <td>CharlestonFeb28_2020.txt</td>\n",
       "      <td>Thank you. Thank you. Thank you. All I can say...</td>\n",
       "      <td>One of the things I asked them, and I've been ...</td>\n",
       "    </tr>\n",
       "    <tr>\n",
       "      <th>3</th>\n",
       "      <td>Charlotte</td>\n",
       "      <td>Mar</td>\n",
       "      <td>2020</td>\n",
       "      <td>CharlotteMar2_2020.txt</td>\n",
       "      <td>I want to thank you very much. North Carolina,...</td>\n",
       "      <td>A lot of people don't even know that, but that...</td>\n",
       "    </tr>\n",
       "    <tr>\n",
       "      <th>4</th>\n",
       "      <td>Cincinnati</td>\n",
       "      <td>Aug</td>\n",
       "      <td>2019</td>\n",
       "      <td>CincinnatiAug1_2019.txt</td>\n",
       "      <td>Thank you all. Thank you very much. Thank you ...</td>\n",
       "      <td>Do you think they're going to put great citize...</td>\n",
       "    </tr>\n",
       "  </tbody>\n",
       "</table>\n",
       "</div>"
      ],
      "text/plain": [
       "        Location Month  Year                   filename  \\\n",
       "0   Battle Creek   Dec  2019  BattleCreekDec19_2019.txt   \n",
       "1        Bemidji   Sep  2020      BemidjiSep18_2020.txt   \n",
       "2     Charleston   Feb  2020   CharlestonFeb28_2020.txt   \n",
       "3      Charlotte   Mar  2020     CharlotteMar2_2020.txt   \n",
       "4     Cincinnati   Aug  2019    CincinnatiAug1_2019.txt   \n",
       "\n",
       "                                             content  \\\n",
       "0  Thank you. Thank you. Thank you to Vice Presid...   \n",
       "1  There's a lot of people. That's great. Thank y...   \n",
       "2  Thank you. Thank you. Thank you. All I can say...   \n",
       "3  I want to thank you very much. North Carolina,...   \n",
       "4  Thank you all. Thank you very much. Thank you ...   \n",
       "\n",
       "                                           summaries  \n",
       "0  We need more people coming into the country, a...  \n",
       "1  With your help, your devotion and your drive, ...  \n",
       "2  One of the things I asked them, and I've been ...  \n",
       "3  A lot of people don't even know that, but that...  \n",
       "4  Do you think they're going to put great citize...  "
      ]
     },
     "execution_count": 8,
     "metadata": {},
     "output_type": "execute_result"
    }
   ],
   "source": [
    "df.head()"
   ]
  },
  {
   "cell_type": "code",
   "execution_count": 9,
   "id": "c6658350",
   "metadata": {},
   "outputs": [
    {
     "data": {
      "text/plain": [
       "(35, 6)"
      ]
     },
     "execution_count": 9,
     "metadata": {},
     "output_type": "execute_result"
    }
   ],
   "source": [
    "df.shape"
   ]
  },
  {
   "cell_type": "markdown",
   "id": "04763df6",
   "metadata": {},
   "source": [
    "# Using BART model for Summarizing"
   ]
  },
  {
   "cell_type": "code",
   "execution_count": 12,
   "id": "95506110",
   "metadata": {},
   "outputs": [
    {
     "name": "stderr",
     "output_type": "stream",
     "text": [
      "Token indices sequence length is longer than the specified maximum sequence length for this model (22894 > 1024). Running this sequence through the model will result in indexing errors\n"
     ]
    },
    {
     "name": "stdout",
     "output_type": "stream",
     "text": [
      "        Location Month  Year                   filename  \\\n",
      "0   Battle Creek   Dec  2019  BattleCreekDec19_2019.txt   \n",
      "1        Bemidji   Sep  2020      BemidjiSep18_2020.txt   \n",
      "2     Charleston   Feb  2020   CharlestonFeb28_2020.txt   \n",
      "3      Charlotte   Mar  2020     CharlotteMar2_2020.txt   \n",
      "4     Cincinnati   Aug  2019    CincinnatiAug1_2019.txt   \n",
      "\n",
      "                                             content  \\\n",
      "0  Thank you. Thank you. Thank you to Vice Presid...   \n",
      "1  There's a lot of people. That's great. Thank y...   \n",
      "2  Thank you. Thank you. Thank you. All I can say...   \n",
      "3  I want to thank you very much. North Carolina,...   \n",
      "4  Thank you all. Thank you very much. Thank you ...   \n",
      "\n",
      "                                           summaries  \\\n",
      "0  We need more people coming into the country, a...   \n",
      "1  With your help, your devotion and your drive, ...   \n",
      "2  One of the things I asked them, and I've been ...   \n",
      "3  A lot of people don't even know that, but that...   \n",
      "4  Do you think they're going to put great citize...   \n",
      "\n",
      "                                             summary  \n",
      "0  The president says he's thrilled to be here wi...  \n",
      "1  Donald Trump says the media is making things u...  \n",
      "2  The president says the unemployment rate in So...  \n",
      "3  Tomorrow, voters in states across the nation w...  \n",
      "4  The Democrats spent more time attacking Barack...  \n"
     ]
    }
   ],
   "source": [
    "import pandas as pd\n",
    "from transformers import BartTokenizer, BartForConditionalGeneration\n",
    "from concurrent.futures import ThreadPoolExecutor, as_completed\n",
    "from torch.utils.data import DataLoader, Dataset\n",
    "import torch\n",
    "\n",
    "# Initialize the tokenizer and model for DistilBART\n",
    "tokenizer = BartTokenizer.from_pretrained(\"sshleifer/distilbart-cnn-12-6\")\n",
    "model = BartForConditionalGeneration.from_pretrained(\"sshleifer/distilbart-cnn-12-6\")\n",
    "device = torch.device(\"cpu\")\n",
    "model.to(device)\n",
    "\n",
    "# Function to split text into chunks of a specified max length\n",
    "def split_text(text, max_length=1024):\n",
    "    tokens = tokenizer.encode(text)\n",
    "    return [tokens[i:i + max_length] for i in range(0, len(tokens), max_length)]\n",
    "\n",
    "# Custom dataset to handle the text data\n",
    "class TextDataset(Dataset):\n",
    "    def __init__(self, texts, tokenizer, max_length):\n",
    "        self.texts = texts\n",
    "        self.tokenizer = tokenizer\n",
    "        self.max_length = max_length\n",
    "\n",
    "    def __len__(self):\n",
    "        return len(self.texts)\n",
    "\n",
    "    def __getitem__(self, idx):\n",
    "        text = self.texts[idx]\n",
    "        chunks = split_text(text, max_length=self.max_length)\n",
    "        return chunks\n",
    "\n",
    "def collate_fn(batch):\n",
    "    flat_list = [item for sublist in batch for item in sublist]\n",
    "    return torch.nn.utils.rnn.pad_sequence([torch.tensor(chunk) for chunk in flat_list], batch_first=True, padding_value=tokenizer.pad_token_id).to(device)\n",
    "\n",
    "def summarize_chunk(chunk):\n",
    "    summary_ids = model.generate(chunk.unsqueeze(0), max_length=100, min_length=50, length_penalty=2.0, num_beams=4, early_stopping=True)\n",
    "    summary = tokenizer.decode(summary_ids[0], skip_special_tokens=True)\n",
    "    return summary\n",
    "\n",
    "\n",
    "# Parameters\n",
    "batch_size = 1\n",
    "max_length = 1024\n",
    "\n",
    "# Create the dataset and dataloader\n",
    "dataset = TextDataset(df['content'], tokenizer, max_length)\n",
    "dataloader = DataLoader(dataset, batch_size=batch_size, collate_fn=collate_fn)\n",
    "\n",
    "def process_batches(dataloader):\n",
    "    summaries = []\n",
    "    with ThreadPoolExecutor(max_workers=8) as executor:\n",
    "        future_to_batch = {executor.submit(summarize_chunk, chunk): chunk for batch in dataloader for chunk in batch}\n",
    "        for future in as_completed(future_to_batch):\n",
    "            summaries.append(future.result())\n",
    "    return summaries\n",
    "\n",
    "# Process the DataLoader in batches\n",
    "summaries = process_batches(dataloader)\n",
    "\n",
    "# Combine summaries for each original text\n",
    "final_summaries = []\n",
    "current_summary = []\n",
    "chunk_counter = 0\n",
    "for idx in range(len(df)):\n",
    "    chunks = split_text(df['content'][idx], max_length)\n",
    "    num_chunks = len(chunks)\n",
    "    for _ in range(num_chunks):\n",
    "        current_summary.append(summaries[chunk_counter])\n",
    "        chunk_counter += 1\n",
    "    final_summaries.append(\" \".join(current_summary))\n",
    "    current_summary = []\n",
    "\n",
    "# Add summaries to the DataFrame\n",
    "df['summary'] = final_summaries\n",
    "\n",
    "# Post-processing to ensure summaries are single-line\n",
    "df['summary'] = df['summary'].apply(lambda x: ' '.join(x.split()))\n",
    "print(df.head())\n"
   ]
  },
  {
   "cell_type": "code",
   "execution_count": 13,
   "id": "a52a84e2",
   "metadata": {},
   "outputs": [
    {
     "data": {
      "text/plain": [
       "'Donald Trump says the media is making things up about Social Security. He says he\\'s never seen anything like it: \"I\\'m the one protecting your Social Security. They\\'re going to destroy your social Security\" The former New York Gov. said he doesn\\'t believe in polls, but poll everything nowadays. President Trump says he\\'s thrilled to be here with the \\'beautiful, great, hardworking people of this incredible state\\' 46 days from now, we\\'re going to win Minnesota, and we\\'re winning four more years in the White House, he says. Trump: \"I\\'ve been watching it for years. They haven\\'t treated you right.\" The New York Times reporter spent $2,000,000 on a campaign against Joe Crowley, who was supposed to be speaker of the house. Donald Trump says he\\'s not fit to be your President, but he\\'s mentally fit. The narrative seems to be Russia, he says, but the FBI has started going Russia. President says Hillary Clinton deleted 33,000 emails, acid washed her phones and acid washed them. He says she\\'s not getting her money worth from her yoga lessons, yoga lessons and her daughter\\'s wedding. President says he was loyal to someone who endorsed him early, but that was his fault. We\\'re not going to let radical Left socialist/communists take over our country, Donald Trump says. We\\'re standing in the way of them, this group of people, he says. But you have a lot of groups of people just like this, every place we go. Biden with the circles? Because he can\\'t draw a crowd? He\\'s got like four people in a circle, right? Yet Biden has no idea, and most of them didn\\'t know anything about politics Donald Trump says Joe Biden\\'s energy is far lower than Jeb Bush\\'s, but Joe Biden is off the scale. Biden\\'s enthusiasm to beat Trump is nothing for him, but to beat him, he says, but historically that never wins. The former New York Times writer should be given the Pulitzer prize, Trump says. Donald Trump says he\\'s trying to beat a group of deep state people in Washington. He says he has had 24 years of putting people in office and 24 years more than anyone else. But he says, \"I had everything. I had police, military, soldiers, soldiers and the police. I love our police\" I lost by a half a point to Minnesota, but it\\'s my fault, but I had one speech left. It started at one in the morning. I went to Michigan, we won Michigan. I brought back so many auto companies into Michigan. We brought them back. It was already voting day. I won\\'t mention the name of the magazine. The good news is most of them are dying. Remember Beto? \"I was born to run for president.\" I don\\'t think they have any idea what they\\'re doing. I think they\\'re just a bunch of thugs. They started ripping down Abraham Lincoln. When they hit Lincoln I said, \"Wait a minute, this is the man. And you can\\'t do...\" Then they hit George Washington, Thomas Jefferson. They hit everybody. They even had Gandhi. All Gandhi wanted was one thing. May we have peace. Rip down the statue we don\\'t like it. Rip it down the You\\'ve got to break this spell from 1972, Donald Trump says, \\'We don\\'t have too many more chances with this stuff\\' He says the one person that he won\\'t pick is Kamala because she called him a racist, she tried to me-too him. Trump says he\\'s not playing games, but he\\'s sharp as you can be. We want trump trump trump to trump, but we want Rudy Trump, says Mike Huckabee. He says he\\'s only here because of him and Joe Biden, and if Biden wins, China wins, and it\\'s very simple. Huckabee: \"I could be at home having a wonderful time, but the one thing I said I said this I say this I said was this I look this I could be home, New York was New York\" The president says he\\'s building 10 miles of wall a week and 330 miles of border wall is up to 330 miles. The wall is having a tremendous impact on drugs and human trafficking in women, he says. Biden was against the ban on China\\'s highly infected Wuhan province, but now his new thing is, if only I moved one week earlier, but I was earlier than everybody. Trump says he has a good relationship with North Korea\\'s Kim Jong Un, and we get along with him. But they said, \"He made a terrible deal. He\\'s given so much to North Korea.\" What did I give? I gave nothing except I gave heart because I don\\'t want to see people killed on their side either. We\\'ve rebuilt our military to a level that nobody ever thought possible, he says. We\\'re rounding that corner, and we\\'re rounding it fast and they don\\'t want to give us any credit because they want to keep this up \\'til November 4th. We did price transparency, where you see your prices, and it goes into effect on January 1st. I took a lot of heat, and I\\'m doing favorite nations drugs, meaning whatever the lowest in the world is, we have to pay the same. I signed an executive order because Obama took your Iron Range away. Obama took our heart out when he closed up the Iron Range. And I\\'ll never forget. The day I did it, and Tom was there, a man, came up to me and he was a rough guy and he never cried in his life, including at childbirth, but he was crying. He said, \"Sir, you gave our life back to us\" A general came, and an air force general, great guy, handsome guy. I said, \"So general, what are we paying? What\\'s the price?\" \"Sir, it\\'s $5.7 million and we\\'re ready to go, Sir, could you sign it?\" \"Oh, that\\'s good. It sounds very high to me general,\" he said. Then he said to the general, \"General, don\\'t cancel the order. Just tell him I\\'m very I can\\'t say I\\'m going to buy the Air Force One from a European company that doesn\\'t work too well. My only option was to say, \"Look, I just don\\'t want to just put it aside\" Boeing came to me, and I love to negotiate. Boeing signed a contract for $3.9 billion. Nine Democratic mayors of cities in cities in the Iron Range endorsed me over Sleepy Joe. The New York Times won all these Pulitzer prizes, these people, and they all got it wrong, right? They got for Russia, Russia and Russia, but they got the prize for Russia. We give the Pulitzer prize to the Washington Post and all of these real sleazebags. And Pulitzer association, the committee should ask for those prizes back. They got it all wrong. They were a hundred percent wrong. Donald Trump says he has been listening for six months, \"Texas is so close, we can\\'t even imagine it it\\'s so close to call\" The night of the election, they called the results. They forgot to say the polls were closed, he says, \"How could come I won?\" I called my people, \"I have won?\" He says he doesn\\'t think they\\'re going to do too well in Texas or Minnesota. The next president will get one, two, three, or four Supreme court justices, Donald Trump says. We will uphold religious liberty, free speech, and the right to keep and bear arms. And we will keep America out of these ridiculous, horrible, endless foreign wars. We\\'ll end our reliance on China once and for all. We will make our medical supplies right here in the U.S. Minnesota is going to keep on winning and you\\'re going to see winning like you\\'ve never seen before, Donald Trump says. With your help, your devotion and your drive, we are returning power to you, the American people, he says. Donald Trump: \"I haven\\'t said it in a long time because we\\'ve been doing a lot of winning, but you\\'re winning so much\" The Republican party has never ever been unified like it is now, Donald Trump says. The president says he\\'s thrilled to be back in South Carolina with thousands of hardworking American Patriots who believe in faith, family, God, and country. Mr. Trump: \"Fake news just doesn\\'t get it, do they? They don’t get it.\"'"
      ]
     },
     "execution_count": 13,
     "metadata": {},
     "output_type": "execute_result"
    }
   ],
   "source": [
    "df['summary'][1]"
   ]
  },
  {
   "cell_type": "code",
   "execution_count": 17,
   "id": "5fbf33e6",
   "metadata": {},
   "outputs": [
    {
     "data": {
      "text/plain": [
       "'With your help, your devotion and your drive, we are going to keep on working, we\\'re going to keep on fighting, and we are going to keep on winning, winning, winning. Minnesota is going to keep on winning and you\\'re going to get tired of winning because Minnesota doesn\\'t want to win all the time. We\\'re rounding it with or without, but we\\'re going to have with, but you know, with his better, but with or without, we\\'re rounding that corner, and we\\'re rounding it fast and they don\\'t want to give us any credit because they want to keep this up \\'til November 4th. And you know he\\'s got a lot of people that are deep staters, whatever you want to call them. All the guys that got it right, that really got it right, they all got it wrong, totally wrong. We\\'re going to keep on going, Jason, we\\'re going to keep on winning. But they did it, and we\\'ve done a great job and the people of that great state, they understand it, and I just hope the people of your state of Minnesota understand it because we don\\'t have too many more chances with this stuff. 46 days from now, we\\'re going to win Minnesota, and we\\'re going to win four more years in the White House. And the only one I could think of is Ted, because he\\'s going to get 50 Republican votes and he\\'s going to get 50 Democrat votes. But you know it\\'s nasty, it\\'s a little nasty that people… and I didn\\'t say, \"No, you got to change the rules. Just like I was saying before, Texas, they don\\'t want God, they don\\'t want oil, they don\\'t want guns. And together with the incredible people of Minnesota, and you know what\\'s going to be operating at strength? You know I came to Washington … Think of it, think of it. They got that crew cut, they got the crap under their eyes, they got the whole deal. From St. Paul to St. Cloud, from Rochester to Duluth, and from Minneapolis, thank God we still have Minneapolis, to right here, right here with all of you great people, this state was pioneered by men and women who braved the wilderness and the winters to build a better life for themselves and for their families. So I look at a crowd and whether I have good instinct or not, this is not the crowd of somebody that\\'s going to finish second in the state to a Sleepy Joe. And he said, \"I don\\'t know too much about a lot, but I know one thing. When somebody has to rely on winning because of somebody as opposed to winning because people love you, people respect you … And Sean Hannity did something the other night. And I\\'m going to look at Jason, I\\'m going to say, \"No, Jason, I\\'m sorry. They were going to March on Washington and they were going to rip down a statue of Abraham Lincoln.'"
      ]
     },
     "execution_count": 17,
     "metadata": {},
     "output_type": "execute_result"
    }
   ],
   "source": [
    "df['summaries'][1]"
   ]
  }
 ],
 "metadata": {
  "kernelspec": {
   "display_name": "Python 3 (ipykernel)",
   "language": "python",
   "name": "python3"
  },
  "language_info": {
   "codemirror_mode": {
    "name": "ipython",
    "version": 3
   },
   "file_extension": ".py",
   "mimetype": "text/x-python",
   "name": "python",
   "nbconvert_exporter": "python",
   "pygments_lexer": "ipython3",
   "version": "3.11.9"
  }
 },
 "nbformat": 4,
 "nbformat_minor": 5
}
